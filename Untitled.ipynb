{
 "cells": [
  {
   "cell_type": "code",
   "execution_count": 1,
   "metadata": {
    "collapsed": true
   },
   "outputs": [],
   "source": [
    "import pandas as pd\n",
    "import numpy as np"
   ]
  },
  {
   "cell_type": "code",
   "execution_count": 2,
   "metadata": {
    "collapsed": true
   },
   "outputs": [],
   "source": [
    "df =pd.read_csv('train_data.csv')\n",
    "test = pd.read_csv('test_data.csv')"
   ]
  },
  {
   "cell_type": "code",
   "execution_count": 3,
   "metadata": {},
   "outputs": [
    {
     "data": {
      "text/html": [
       "<div>\n",
       "<style>\n",
       "    .dataframe thead tr:only-child th {\n",
       "        text-align: right;\n",
       "    }\n",
       "\n",
       "    .dataframe thead th {\n",
       "        text-align: left;\n",
       "    }\n",
       "\n",
       "    .dataframe tbody tr th {\n",
       "        vertical-align: top;\n",
       "    }\n",
       "</style>\n",
       "<table border=\"1\" class=\"dataframe\">\n",
       "  <thead>\n",
       "    <tr style=\"text-align: right;\">\n",
       "      <th></th>\n",
       "      <th>connection_id</th>\n",
       "      <th>cont_1</th>\n",
       "      <th>cont_2</th>\n",
       "      <th>cont_3</th>\n",
       "      <th>cont_4</th>\n",
       "      <th>cont_5</th>\n",
       "      <th>cont_6</th>\n",
       "      <th>cont_7</th>\n",
       "      <th>cont_8</th>\n",
       "      <th>cont_9</th>\n",
       "      <th>...</th>\n",
       "      <th>cat_15</th>\n",
       "      <th>cat_16</th>\n",
       "      <th>cat_17</th>\n",
       "      <th>cat_18</th>\n",
       "      <th>cat_19</th>\n",
       "      <th>cat_20</th>\n",
       "      <th>cat_21</th>\n",
       "      <th>cat_22</th>\n",
       "      <th>cat_23</th>\n",
       "      <th>target</th>\n",
       "    </tr>\n",
       "  </thead>\n",
       "  <tbody>\n",
       "    <tr>\n",
       "      <th>0</th>\n",
       "      <td>cxcon_1</td>\n",
       "      <td>0</td>\n",
       "      <td>1032</td>\n",
       "      <td>0</td>\n",
       "      <td>0.0</td>\n",
       "      <td>0.0</td>\n",
       "      <td>0.0</td>\n",
       "      <td>0.0</td>\n",
       "      <td>1.0</td>\n",
       "      <td>0.0</td>\n",
       "      <td>...</td>\n",
       "      <td>0</td>\n",
       "      <td>0</td>\n",
       "      <td>0</td>\n",
       "      <td>0</td>\n",
       "      <td>0</td>\n",
       "      <td>511</td>\n",
       "      <td>511</td>\n",
       "      <td>255</td>\n",
       "      <td>255</td>\n",
       "      <td>2</td>\n",
       "    </tr>\n",
       "    <tr>\n",
       "      <th>1</th>\n",
       "      <td>cxcon_4</td>\n",
       "      <td>0</td>\n",
       "      <td>520</td>\n",
       "      <td>0</td>\n",
       "      <td>0.0</td>\n",
       "      <td>0.0</td>\n",
       "      <td>0.0</td>\n",
       "      <td>0.0</td>\n",
       "      <td>1.0</td>\n",
       "      <td>0.0</td>\n",
       "      <td>...</td>\n",
       "      <td>0</td>\n",
       "      <td>0</td>\n",
       "      <td>0</td>\n",
       "      <td>0</td>\n",
       "      <td>0</td>\n",
       "      <td>511</td>\n",
       "      <td>511</td>\n",
       "      <td>255</td>\n",
       "      <td>255</td>\n",
       "      <td>0</td>\n",
       "    </tr>\n",
       "    <tr>\n",
       "      <th>2</th>\n",
       "      <td>cxcon_7</td>\n",
       "      <td>0</td>\n",
       "      <td>1032</td>\n",
       "      <td>0</td>\n",
       "      <td>0.0</td>\n",
       "      <td>0.0</td>\n",
       "      <td>0.0</td>\n",
       "      <td>0.0</td>\n",
       "      <td>1.0</td>\n",
       "      <td>0.0</td>\n",
       "      <td>...</td>\n",
       "      <td>0</td>\n",
       "      <td>0</td>\n",
       "      <td>0</td>\n",
       "      <td>0</td>\n",
       "      <td>0</td>\n",
       "      <td>511</td>\n",
       "      <td>511</td>\n",
       "      <td>255</td>\n",
       "      <td>255</td>\n",
       "      <td>0</td>\n",
       "    </tr>\n",
       "    <tr>\n",
       "      <th>3</th>\n",
       "      <td>cxcon_10</td>\n",
       "      <td>0</td>\n",
       "      <td>1032</td>\n",
       "      <td>0</td>\n",
       "      <td>0.0</td>\n",
       "      <td>0.0</td>\n",
       "      <td>0.0</td>\n",
       "      <td>0.0</td>\n",
       "      <td>1.0</td>\n",
       "      <td>0.0</td>\n",
       "      <td>...</td>\n",
       "      <td>0</td>\n",
       "      <td>0</td>\n",
       "      <td>0</td>\n",
       "      <td>0</td>\n",
       "      <td>0</td>\n",
       "      <td>511</td>\n",
       "      <td>511</td>\n",
       "      <td>255</td>\n",
       "      <td>255</td>\n",
       "      <td>0</td>\n",
       "    </tr>\n",
       "    <tr>\n",
       "      <th>4</th>\n",
       "      <td>cxcon_13</td>\n",
       "      <td>0</td>\n",
       "      <td>1032</td>\n",
       "      <td>0</td>\n",
       "      <td>0.0</td>\n",
       "      <td>0.0</td>\n",
       "      <td>0.0</td>\n",
       "      <td>0.0</td>\n",
       "      <td>1.0</td>\n",
       "      <td>0.0</td>\n",
       "      <td>...</td>\n",
       "      <td>0</td>\n",
       "      <td>0</td>\n",
       "      <td>0</td>\n",
       "      <td>0</td>\n",
       "      <td>0</td>\n",
       "      <td>511</td>\n",
       "      <td>511</td>\n",
       "      <td>255</td>\n",
       "      <td>255</td>\n",
       "      <td>2</td>\n",
       "    </tr>\n",
       "  </tbody>\n",
       "</table>\n",
       "<p>5 rows × 43 columns</p>\n",
       "</div>"
      ],
      "text/plain": [
       "  connection_id  cont_1  cont_2  cont_3  cont_4  cont_5  cont_6  cont_7  \\\n",
       "0       cxcon_1       0    1032       0     0.0     0.0     0.0     0.0   \n",
       "1       cxcon_4       0     520       0     0.0     0.0     0.0     0.0   \n",
       "2       cxcon_7       0    1032       0     0.0     0.0     0.0     0.0   \n",
       "3      cxcon_10       0    1032       0     0.0     0.0     0.0     0.0   \n",
       "4      cxcon_13       0    1032       0     0.0     0.0     0.0     0.0   \n",
       "\n",
       "   cont_8  cont_9   ...    cat_15  cat_16  cat_17  cat_18  cat_19  cat_20  \\\n",
       "0     1.0     0.0   ...         0       0       0       0       0     511   \n",
       "1     1.0     0.0   ...         0       0       0       0       0     511   \n",
       "2     1.0     0.0   ...         0       0       0       0       0     511   \n",
       "3     1.0     0.0   ...         0       0       0       0       0     511   \n",
       "4     1.0     0.0   ...         0       0       0       0       0     511   \n",
       "\n",
       "   cat_21  cat_22  cat_23  target  \n",
       "0     511     255     255       2  \n",
       "1     511     255     255       0  \n",
       "2     511     255     255       0  \n",
       "3     511     255     255       0  \n",
       "4     511     255     255       2  \n",
       "\n",
       "[5 rows x 43 columns]"
      ]
     },
     "execution_count": 3,
     "metadata": {},
     "output_type": "execute_result"
    }
   ],
   "source": [
    "df.head()"
   ]
  },
  {
   "cell_type": "code",
   "execution_count": 4,
   "metadata": {},
   "outputs": [
    {
     "data": {
      "text/plain": [
       "Index(['connection_id', 'cont_1', 'cont_2', 'cont_3', 'cont_4', 'cont_5',\n",
       "       'cont_6', 'cont_7', 'cont_8', 'cont_9', 'cont_10', 'cont_11', 'cont_12',\n",
       "       'cont_13', 'cont_14', 'cont_15', 'cont_16', 'cont_17', 'cont_18',\n",
       "       'cat_1', 'cat_2', 'cat_3', 'cat_4', 'cat_5', 'cat_6', 'cat_7', 'cat_8',\n",
       "       'cat_9', 'cat_10', 'cat_11', 'cat_12', 'cat_13', 'cat_14', 'cat_15',\n",
       "       'cat_16', 'cat_17', 'cat_18', 'cat_19', 'cat_20', 'cat_21', 'cat_22',\n",
       "       'cat_23', 'target'],\n",
       "      dtype='object')"
      ]
     },
     "execution_count": 4,
     "metadata": {},
     "output_type": "execute_result"
    }
   ],
   "source": [
    "df.columns"
   ]
  },
  {
   "cell_type": "code",
   "execution_count": 5,
   "metadata": {},
   "outputs": [
    {
     "name": "stdout",
     "output_type": "stream",
     "text": [
      "        cont_1  cont_2  cont_3  cont_4  cont_5  cont_6  cont_7  cont_8  \\\n",
      "0            0    1032       0     0.0     0.0     0.0     0.0    1.00   \n",
      "1            0     520       0     0.0     0.0     0.0     0.0    1.00   \n",
      "2            0    1032       0     0.0     0.0     0.0     0.0    1.00   \n",
      "3            0    1032       0     0.0     0.0     0.0     0.0    1.00   \n",
      "4            0    1032       0     0.0     0.0     0.0     0.0    1.00   \n",
      "5            0    1032       0     0.0     0.0     0.0     0.0    1.00   \n",
      "6            0     219    7662     0.0     0.0     0.0     0.0    1.00   \n",
      "7            0    1032       0     0.0     0.0     0.0     0.0    1.00   \n",
      "8            0       0       0     1.0     1.0     0.0     0.0    0.05   \n",
      "9            0     105       0     0.0     0.0     0.0     0.0    1.00   \n",
      "10           0    1032       0     0.0     0.0     0.0     0.0    1.00   \n",
      "11           0     318    2002     0.0     0.0     0.0     0.0    1.00   \n",
      "12           0       0       0     1.0     1.0     0.0     0.0    0.04   \n",
      "13           0     217    1892     0.0     0.0     0.0     0.0    1.00   \n",
      "14           0    1032       0     0.0     0.0     0.0     0.0    1.00   \n",
      "15           0    1032       0     0.0     0.0     0.0     0.0    1.00   \n",
      "16           0     205   25672     0.0     0.0     0.0     0.0    1.00   \n",
      "17           0     348   11169     0.0     0.0     0.0     0.0    1.00   \n",
      "18           0    1032       0     0.0     0.0     0.0     0.0    1.00   \n",
      "19           0     145       0     0.0     0.0     0.0     0.0    0.33   \n",
      "20           0    1032       0     0.0     0.0     0.0     0.0    1.00   \n",
      "21           0     236    2085     0.0     0.0     0.0     0.0    1.00   \n",
      "22           0    1032       0     0.0     0.0     0.0     0.0    1.00   \n",
      "23           0     223    1425     0.0     0.0     0.0     0.0    1.00   \n",
      "24           0    1032       0     0.0     0.0     0.0     0.0    1.00   \n",
      "25           0       0       0     1.0     1.0     0.0     0.0    0.14   \n",
      "26           0    1032       0     0.0     0.0     0.0     0.0    1.00   \n",
      "27           0    1032       0     0.0     0.0     0.0     0.0    1.00   \n",
      "28           0    1032       0     0.0     0.0     0.0     0.0    1.00   \n",
      "29           0       0       0     0.0     0.0     1.0     1.0    0.07   \n",
      "...        ...     ...     ...     ...     ...     ...     ...     ...   \n",
      "169277       0       0       0     1.0     1.0     0.0     0.0    0.05   \n",
      "169278       0     318    3846     0.0     0.0     0.0     0.0    1.00   \n",
      "169279       0    1032       0     0.0     0.0     0.0     0.0    1.00   \n",
      "169280       0       0       0     0.0     0.0     1.0     1.0    1.00   \n",
      "169281       0       0       0     1.0     1.0     0.0     0.0    0.50   \n",
      "169282       0    1032       0     0.0     0.0     0.0     0.0    1.00   \n",
      "169283       0       0       0     1.0     1.0     0.0     0.0    0.06   \n",
      "169284       0     520       0     0.0     0.0     0.0     0.0    1.00   \n",
      "169285       0     231     576     0.0     0.0     0.0     0.0    1.00   \n",
      "169286       0    1032       0     0.0     0.0     0.0     0.0    1.00   \n",
      "169287       0     216    1523     0.0     0.0     0.0     0.0    1.00   \n",
      "169288       0     520       0     0.0     0.0     0.0     0.0    1.00   \n",
      "169289       0    1032       0     0.0     0.0     0.0     0.0    1.00   \n",
      "169290       0    1032       0     0.0     0.0     0.0     0.0    1.00   \n",
      "169291    2630     145     105     0.0     0.0     0.0     0.0    1.00   \n",
      "169292       0    1032       0     0.0     0.0     0.0     0.0    1.00   \n",
      "169293       0    1032       0     0.0     0.0     0.0     0.0    1.00   \n",
      "169294       0       0       0     0.0     0.0     1.0     1.0    0.05   \n",
      "169295       0    1032       0     0.0     0.0     0.0     0.0    1.00   \n",
      "169296       0     520       0     0.0     0.0     0.0     0.0    1.00   \n",
      "169297       0    1032       0     0.0     0.0     0.0     0.0    1.00   \n",
      "169298       0       0       0     1.0     1.0     0.0     0.0    0.01   \n",
      "169299       4      30      93     0.0     0.0     0.0     0.0    1.00   \n",
      "169300       0     520       0     0.0     0.0     0.0     0.0    1.00   \n",
      "169301       0     520       0     0.0     0.0     0.0     0.0    1.00   \n",
      "169302       0     227    1127     0.0     0.0     0.0     0.0    1.00   \n",
      "169303       0    1032       0     0.0     0.0     0.0     0.0    1.00   \n",
      "169304       0     224    8980     0.0     0.0     0.0     0.0    1.00   \n",
      "169305       0     520       0     0.0     0.0     0.0     0.0    1.00   \n",
      "169306       0     498    6486     0.0     0.0     0.0     0.0    1.00   \n",
      "\n",
      "        cont_9  cont_10  cont_11  cont_12  cont_13  cont_14  cont_15  cont_16  \\\n",
      "0         0.00     0.00     1.00     0.00     1.00     0.00     0.00     0.00   \n",
      "1         0.00     0.00     1.00     0.00     1.00     0.00     0.00     0.00   \n",
      "2         0.00     0.00     1.00     0.00     1.00     0.00     0.00     0.00   \n",
      "3         0.00     0.00     1.00     0.00     1.00     0.00     0.00     0.00   \n",
      "4         0.00     0.00     1.00     0.00     1.00     0.00     0.00     0.00   \n",
      "5         0.00     0.00     1.00     0.00     1.00     0.00     0.00     0.00   \n",
      "6         0.00     0.00     1.00     0.00     0.00     0.00     0.00     0.00   \n",
      "7         0.00     0.00     1.00     0.00     1.00     0.00     0.00     0.00   \n",
      "8         0.07     0.00     0.04     0.09     0.00     0.00     1.00     1.00   \n",
      "9         0.00     0.00     0.96     0.01     0.01     0.00     0.00     0.00   \n",
      "10        0.00     0.00     1.00     0.00     1.00     0.00     0.00     0.00   \n",
      "11        0.00     0.00     1.00     0.00     0.00     0.02     0.00     0.00   \n",
      "12        0.08     0.00     0.05     0.06     0.00     0.00     1.00     1.00   \n",
      "13        0.00     0.00     1.00     0.00     0.00     0.00     0.00     0.00   \n",
      "14        0.00     0.00     1.00     0.00     1.00     0.00     0.00     0.00   \n",
      "15        0.00     0.00     1.00     0.00     1.00     0.00     0.00     0.00   \n",
      "16        0.00     0.00     1.00     0.00     0.00     0.00     0.00     0.00   \n",
      "17        0.00     0.00     1.00     0.00     0.50     0.04     0.00     0.00   \n",
      "18        0.00     0.00     1.00     0.00     1.00     0.00     0.00     0.00   \n",
      "19        0.67     0.00     0.00     0.84     0.99     0.00     0.00     0.00   \n",
      "20        0.00     0.00     1.00     0.00     1.00     0.00     0.00     0.00   \n",
      "21        0.00     0.40     1.00     0.00     0.25     0.02     0.00     0.00   \n",
      "22        0.00     0.00     1.00     0.00     1.00     0.00     0.00     0.00   \n",
      "23        0.00     0.00     1.00     0.00     0.01     0.01     0.01     0.01   \n",
      "24        0.00     0.00     1.00     0.00     1.00     0.00     0.00     0.00   \n",
      "25        0.07     0.00     0.07     0.07     0.00     0.00     1.00     1.00   \n",
      "26        0.00     0.00     1.00     0.00     1.00     0.00     0.00     0.00   \n",
      "27        0.00     0.00     1.00     0.00     1.00     0.00     0.00     0.00   \n",
      "28        0.00     0.00     1.00     0.00     1.00     0.00     0.00     0.00   \n",
      "29        0.07     0.00     0.06     0.08     0.00     0.00     0.00     0.00   \n",
      "...        ...      ...      ...      ...      ...      ...      ...      ...   \n",
      "169277    0.06     0.00     0.04     0.07     0.00     0.00     1.00     1.00   \n",
      "169278    0.00     0.29     1.00     0.00     0.01     0.05     0.00     0.00   \n",
      "169279    0.00     0.00     1.00     0.00     1.00     0.00     0.00     0.00   \n",
      "169280    0.00     0.00     0.00     0.62     1.00     0.00     0.00     0.00   \n",
      "169281    1.00     0.00     0.26     0.02     0.00     0.00     1.00     1.00   \n",
      "169282    0.00     0.00     1.00     0.00     1.00     0.00     0.00     0.00   \n",
      "169283    0.06     0.00     0.05     0.07     0.00     0.00     1.00     1.00   \n",
      "169284    0.00     0.00     1.00     0.00     1.00     0.00     0.00     0.00   \n",
      "169285    0.00     0.00     1.00     0.00     0.01     0.02     0.00     0.00   \n",
      "169286    0.00     0.00     1.00     0.00     1.00     0.00     0.00     0.00   \n",
      "169287    0.00     0.00     1.00     0.00     0.05     0.08     0.00     0.00   \n",
      "169288    0.00     0.00     1.00     0.00     1.00     0.00     0.00     0.00   \n",
      "169289    0.00     0.00     1.00     0.00     1.00     0.00     0.00     0.00   \n",
      "169290    0.00     0.00     1.00     0.00     1.00     0.00     0.00     0.00   \n",
      "169291    0.00     0.00     0.00     0.87     1.00     0.00     0.00     0.00   \n",
      "169292    0.00     0.00     1.00     0.00     1.00     0.00     0.00     0.00   \n",
      "169293    0.00     0.00     1.00     0.00     1.00     0.00     0.00     0.00   \n",
      "169294    0.07     0.00     0.05     0.07     0.00     0.00     0.00     0.00   \n",
      "169295    0.00     0.00     1.00     0.00     1.00     0.00     0.00     0.00   \n",
      "169296    0.00     0.00     1.00     0.00     1.00     0.00     0.00     0.00   \n",
      "169297    0.00     0.00     1.00     0.00     1.00     0.00     0.00     0.00   \n",
      "169298    0.06     0.00     0.03     0.07     0.00     0.00     1.00     1.00   \n",
      "169299    0.00     0.00     0.98     0.01     0.00     0.00     0.00     0.00   \n",
      "169300    0.00     0.00     1.00     0.00     1.00     0.00     0.00     0.00   \n",
      "169301    0.00     0.00     1.00     0.00     1.00     0.00     0.00     0.00   \n",
      "169302    0.00     0.00     1.00     0.00     0.03     0.04     0.00     0.00   \n",
      "169303    0.00     0.00     1.00     0.00     1.00     0.00     0.00     0.00   \n",
      "169304    0.00     0.29     1.00     0.00     0.02     0.03     0.00     0.00   \n",
      "169305    0.00     0.00     1.00     0.00     1.00     0.00     0.00     0.00   \n",
      "169306    0.00     0.00     1.00     0.00     0.00     0.00     0.00     0.00   \n",
      "\n",
      "        cont_17  cont_18  target  \n",
      "0           0.0      0.0       2  \n",
      "1           0.0      0.0       0  \n",
      "2           0.0      0.0       0  \n",
      "3           0.0      0.0       0  \n",
      "4           0.0      0.0       2  \n",
      "5           0.0      0.0       0  \n",
      "6           0.0      0.0       1  \n",
      "7           0.0      0.0       2  \n",
      "8           0.0      0.0       0  \n",
      "9           0.0      0.0       1  \n",
      "10          0.0      0.0       0  \n",
      "11          0.0      0.0       1  \n",
      "12          0.0      0.0       0  \n",
      "13          0.0      0.0       1  \n",
      "14          0.0      0.0       2  \n",
      "15          0.0      0.0       0  \n",
      "16          0.0      0.0       1  \n",
      "17          0.0      0.0       1  \n",
      "18          0.0      0.0       2  \n",
      "19          0.0      0.0       1  \n",
      "20          0.0      0.0       0  \n",
      "21          0.0      0.0       1  \n",
      "22          0.0      0.0       0  \n",
      "23          0.0      0.0       1  \n",
      "24          0.0      0.0       0  \n",
      "25          0.0      0.0       0  \n",
      "26          0.0      0.0       0  \n",
      "27          0.0      0.0       0  \n",
      "28          0.0      0.0       2  \n",
      "29          1.0      1.0       2  \n",
      "...         ...      ...     ...  \n",
      "169277      0.0      0.0       0  \n",
      "169278      0.0      0.0       1  \n",
      "169279      0.0      0.0       0  \n",
      "169280      1.0      1.0       0  \n",
      "169281      0.0      0.0       2  \n",
      "169282      0.0      0.0       0  \n",
      "169283      0.0      0.0       2  \n",
      "169284      0.0      0.0       0  \n",
      "169285      0.0      0.0       1  \n",
      "169286      0.0      0.0       0  \n",
      "169287      0.0      0.0       1  \n",
      "169288      0.0      0.0       0  \n",
      "169289      0.0      0.0       0  \n",
      "169290      0.0      0.0       2  \n",
      "169291      0.0      0.0       1  \n",
      "169292      0.0      0.0       0  \n",
      "169293      0.0      0.0       2  \n",
      "169294      1.0      1.0       0  \n",
      "169295      0.0      0.0       0  \n",
      "169296      0.0      0.0       2  \n",
      "169297      0.0      0.0       0  \n",
      "169298      0.0      0.0       2  \n",
      "169299      0.0      0.0       0  \n",
      "169300      0.0      0.0       0  \n",
      "169301      0.0      0.0       0  \n",
      "169302      0.0      0.0       1  \n",
      "169303      0.0      0.0       0  \n",
      "169304      0.0      0.0       1  \n",
      "169305      0.0      0.0       0  \n",
      "169306      0.0      0.0       1  \n",
      "\n",
      "[169307 rows x 19 columns]\n"
     ]
    }
   ],
   "source": [
    "numerical_data = df[['cont_1', 'cont_2', 'cont_3', 'cont_4', 'cont_5',\n",
    "       'cont_6', 'cont_7', 'cont_8', 'cont_9', 'cont_10', 'cont_11', 'cont_12',\n",
    "       'cont_13', 'cont_14', 'cont_15', 'cont_16', 'cont_17', 'cont_18','target']]\n",
    "\n",
    "print(numerical_data)\n",
    "categorical_data = df[['cat_1', 'cat_2', 'cat_3', 'cat_4', 'cat_5', 'cat_6', 'cat_7', 'cat_8',\n",
    "       'cat_9', 'cat_10', 'cat_11', 'cat_12', 'cat_13', 'cat_14', 'cat_15',\n",
    "       'cat_16', 'cat_17', 'cat_18', 'cat_19', 'cat_20', 'cat_21', 'cat_22',\n",
    "       'cat_23','target']]\n",
    "#print(categorical_data)"
   ]
  },
  {
   "cell_type": "code",
   "execution_count": 6,
   "metadata": {},
   "outputs": [
    {
     "name": "stdout",
     "output_type": "stream",
     "text": [
      "target     1.000000\n",
      "cont_10    0.080114\n",
      "cont_8     0.054885\n",
      "cont_14    0.045900\n",
      "cont_1     0.026223\n",
      "cont_11    0.025009\n",
      "cont_12    0.023677\n",
      "cont_3     0.009416\n",
      "cont_2     0.000812\n",
      "cont_17   -0.001107\n",
      "cont_6    -0.001691\n",
      "cont_7    -0.001815\n",
      "cont_18   -0.001910\n",
      "cont_9    -0.004752\n",
      "cont_5    -0.050813\n",
      "Name: target, dtype: float64\n",
      "cont_5    -0.050813\n",
      "cont_15   -0.050928\n",
      "cont_16   -0.050952\n",
      "cont_4    -0.051092\n",
      "cont_13   -0.109195\n",
      "Name: target, dtype: float64\n"
     ]
    }
   ],
   "source": [
    "cor = numerical_data.corr()\n",
    "print(cor['target'].sort_values(ascending=False)[: 15])\n",
    "print(cor['target'].sort_values(ascending=False)[-5:])"
   ]
  },
  {
   "cell_type": "code",
   "execution_count": null,
   "metadata": {
    "collapsed": true
   },
   "outputs": [],
   "source": []
  },
  {
   "cell_type": "code",
   "execution_count": 7,
   "metadata": {},
   "outputs": [
    {
     "name": "stdout",
     "output_type": "stream",
     "text": [
      "2\n",
      "256\n",
      "6\n",
      "2\n"
     ]
    }
   ],
   "source": [
    "categories = ['cat_1', 'cat_2', 'cat_3', 'cat_4', 'cat_5', 'cat_6', 'cat_7', 'cat_8',\n",
    "       'cat_9', 'cat_10', 'cat_11', 'cat_12', 'cat_13', 'cat_14', 'cat_15',\n",
    "       'cat_16', 'cat_17', 'cat_18', 'cat_19', 'cat_20', 'cat_21', 'cat_22',\n",
    "       'cat_23']\n",
    "#for i in categories:\n",
    "#    print(len(categorical_data[i].unique()))\n",
    "print(len(categorical_data['cat_9'].unique()))\n",
    "print(len(categorical_data['cat_23'].unique()))\n",
    "print(len(categorical_data['cat_16'].unique()))\n",
    "print(len(categorical_data['cat_19'].unique()))\n",
    "\n",
    "\n",
    "\n",
    "\n",
    "    "
   ]
  },
  {
   "cell_type": "code",
   "execution_count": 8,
   "metadata": {},
   "outputs": [
    {
     "name": "stdout",
     "output_type": "stream",
     "text": [
      "target    1.000000\n",
      "cat_9     0.180166\n",
      "cat_23    0.014047\n",
      "cat_16    0.012697\n",
      "cat_19    0.010025\n",
      "cat_7     0.007358\n",
      "cat_14    0.004628\n",
      "cat_18    0.004064\n",
      "cat_11    0.003771\n",
      "cat_13    0.003036\n",
      "cat_15    0.002889\n",
      "cat_12    0.002115\n",
      "cat_10    0.001921\n",
      "cat_4     0.001541\n",
      "cat_6     0.001090\n",
      "Name: target, dtype: float64\n",
      "cat_21   -0.126541\n",
      "cat_2    -0.134072\n",
      "cat_22   -0.145463\n",
      "cat_20   -0.167528\n",
      "cat_17         NaN\n",
      "Name: target, dtype: float64\n"
     ]
    }
   ],
   "source": [
    "cor2 = categorical_data.corr()\n",
    "print(cor2['target'].sort_values(ascending=False)[: 15])\n",
    "print(cor2['target'].sort_values(ascending=False)[-5:])"
   ]
  },
  {
   "cell_type": "code",
   "execution_count": null,
   "metadata": {},
   "outputs": [],
   "source": []
  },
  {
   "cell_type": "code",
   "execution_count": 9,
   "metadata": {
    "collapsed": true
   },
   "outputs": [],
   "source": [
    "from sklearn.model_selection import train_test_split\n",
    "#import xgboost as xgb"
   ]
  },
  {
   "cell_type": "code",
   "execution_count": 356,
   "metadata": {
    "collapsed": true
   },
   "outputs": [],
   "source": [
    "#feature_names = [x for x in df.columns if x not in ['connection_id','target']]\n",
    "#feature_names = ['cont_10','cont_8','cont_14','cont_1','cont_11','cont_12','cat_9','cat_23','cat_16','cat_19']\n",
    "#feature_names = ['cont_10','cont_8','cont_14','cont_1','cont_11','cont_12','cont_5','cont_15','cont_16','cont_4','cat_9','cat_23','cat_16','cat_19','cat_21','cat_2','cat_22','cat_20']\n",
    "target = df['target']\n",
    "feature_names = ['cont_2','cat_2']"
   ]
  },
  {
   "cell_type": "code",
   "execution_count": 357,
   "metadata": {},
   "outputs": [
    {
     "name": "stderr",
     "output_type": "stream",
     "text": [
      "C:\\Users\\kislay\\Anaconda2\\envs\\tensorflow\\lib\\site-packages\\sklearn\\model_selection\\_split.py:2010: FutureWarning: From version 0.21, test_size will always complement train_size unless both are specified.\n",
      "  FutureWarning)\n"
     ]
    }
   ],
   "source": [
    "X_train, X_valid, y_train, y_valid = train_test_split(df, target, train_size = 0.7, stratify = target, random_state = 2017)"
   ]
  },
  {
   "cell_type": "code",
   "execution_count": 358,
   "metadata": {
    "collapsed": true
   },
   "outputs": [],
   "source": [
    "from sklearn.metrics import accuracy_score\n",
    "def multAcc(pred, dtrain):\n",
    "    label = dtrain\n",
    "    acc = accuracy_score(label, pred)\n",
    "    return 'maccuracy', acc"
   ]
  },
  {
   "cell_type": "markdown",
   "metadata": {},
   "source": [
    "# Model 1 Decision Tree"
   ]
  },
  {
   "cell_type": "code",
   "execution_count": 315,
   "metadata": {
    "collapsed": true
   },
   "outputs": [],
   "source": [
    "from sklearn.model_selection import cross_val_score\n",
    "from sklearn.tree import DecisionTreeClassifier"
   ]
  },
  {
   "cell_type": "code",
   "execution_count": 347,
   "metadata": {
    "collapsed": true
   },
   "outputs": [],
   "source": [
    "clf2 = DecisionTreeClassifier(max_depth=10, min_samples_split=7, max_features='sqrt')"
   ]
  },
  {
   "cell_type": "code",
   "execution_count": 348,
   "metadata": {},
   "outputs": [
    {
     "data": {
      "text/plain": [
       "DecisionTreeClassifier(class_weight=None, criterion='gini', max_depth=10,\n",
       "            max_features='sqrt', max_leaf_nodes=None,\n",
       "            min_impurity_decrease=0.0, min_impurity_split=None,\n",
       "            min_samples_leaf=1, min_samples_split=7,\n",
       "            min_weight_fraction_leaf=0.0, presort=False, random_state=None,\n",
       "            splitter='best')"
      ]
     },
     "execution_count": 348,
     "metadata": {},
     "output_type": "execute_result"
    }
   ],
   "source": [
    "clf2.fit(X_train[feature_names], y_train)"
   ]
  },
  {
   "cell_type": "code",
   "execution_count": 349,
   "metadata": {
    "collapsed": true
   },
   "outputs": [],
   "source": [
    "pred2 = clf2.predict(X_valid[feature_names])"
   ]
  },
  {
   "cell_type": "code",
   "execution_count": 350,
   "metadata": {},
   "outputs": [
    {
     "data": {
      "text/plain": [
       "array([0, 0, 1, ..., 0, 0, 0], dtype=int64)"
      ]
     },
     "execution_count": 350,
     "metadata": {},
     "output_type": "execute_result"
    }
   ],
   "source": [
    "pred2"
   ]
  },
  {
   "cell_type": "code",
   "execution_count": 351,
   "metadata": {},
   "outputs": [
    {
     "data": {
      "text/plain": [
       "('maccuracy', 0.78083594196050632)"
      ]
     },
     "execution_count": 351,
     "metadata": {},
     "output_type": "execute_result"
    }
   ],
   "source": [
    "multAcc(pred2,y_valid)"
   ]
  },
  {
   "cell_type": "code",
   "execution_count": 321,
   "metadata": {
    "collapsed": true
   },
   "outputs": [],
   "source": [
    "clf2.fit(df[feature_names],target)\n",
    "\n",
    "test_pred1 =clf2.predict(test[feature_names]) "
   ]
  },
  {
   "cell_type": "code",
   "execution_count": 322,
   "metadata": {
    "collapsed": true
   },
   "outputs": [],
   "source": [
    "sub = pd.read_csv('sample_submission.csv')\n",
    "sub['target'] = test_pred1\n",
    "sub['target'] = sub['target'].astype(int)\n",
    "sub.to_csv('sub_new_5.csv', index=False)"
   ]
  },
  {
   "cell_type": "markdown",
   "metadata": {},
   "source": [
    "# Model 2 MLP Classifier"
   ]
  },
  {
   "cell_type": "code",
   "execution_count": 359,
   "metadata": {
    "collapsed": true
   },
   "outputs": [],
   "source": [
    "from sklearn.neural_network import MLPClassifier"
   ]
  },
  {
   "cell_type": "code",
   "execution_count": 374,
   "metadata": {
    "collapsed": true
   },
   "outputs": [],
   "source": [
    "clf3 = MLPClassifier(alpha=1e-5,hidden_layer_sizes=(1,3), random_state=10)"
   ]
  },
  {
   "cell_type": "code",
   "execution_count": 375,
   "metadata": {},
   "outputs": [
    {
     "data": {
      "text/plain": [
       "MLPClassifier(activation='relu', alpha=1e-05, batch_size='auto', beta_1=0.9,\n",
       "       beta_2=0.999, early_stopping=False, epsilon=1e-08,\n",
       "       hidden_layer_sizes=(1, 3), learning_rate='constant',\n",
       "       learning_rate_init=0.001, max_iter=200, momentum=0.9,\n",
       "       nesterovs_momentum=True, power_t=0.5, random_state=10, shuffle=True,\n",
       "       solver='adam', tol=0.0001, validation_fraction=0.1, verbose=False,\n",
       "       warm_start=False)"
      ]
     },
     "execution_count": 375,
     "metadata": {},
     "output_type": "execute_result"
    }
   ],
   "source": [
    "clf3.fit(X_train[feature_names],y_train)"
   ]
  },
  {
   "cell_type": "code",
   "execution_count": 376,
   "metadata": {
    "collapsed": true
   },
   "outputs": [],
   "source": [
    "pred3 = clf3.predict(X_valid[feature_names])"
   ]
  },
  {
   "cell_type": "code",
   "execution_count": 377,
   "metadata": {},
   "outputs": [
    {
     "data": {
      "text/plain": [
       "('maccuracy', 0.58395841946724947)"
      ]
     },
     "execution_count": 377,
     "metadata": {},
     "output_type": "execute_result"
    }
   ],
   "source": [
    "multAcc(pred3,y_valid)"
   ]
  },
  {
   "cell_type": "markdown",
   "metadata": {},
   "source": [
    "# Model 3 SVM"
   ]
  },
  {
   "cell_type": "code",
   "execution_count": 207,
   "metadata": {
    "collapsed": true
   },
   "outputs": [],
   "source": [
    "from sklearn import svm"
   ]
  },
  {
   "cell_type": "code",
   "execution_count": 208,
   "metadata": {
    "collapsed": true
   },
   "outputs": [],
   "source": [
    "clf4 = svm.SVC(kernel='rbf')"
   ]
  },
  {
   "cell_type": "code",
   "execution_count": 209,
   "metadata": {},
   "outputs": [
    {
     "data": {
      "text/plain": [
       "SVC(C=1.0, cache_size=200, class_weight=None, coef0=0.0,\n",
       "  decision_function_shape='ovr', degree=3, gamma='auto', kernel='rbf',\n",
       "  max_iter=-1, probability=False, random_state=None, shrinking=True,\n",
       "  tol=0.001, verbose=False)"
      ]
     },
     "execution_count": 209,
     "metadata": {},
     "output_type": "execute_result"
    }
   ],
   "source": [
    "clf4.fit(X_train[feature_names],y_train)"
   ]
  },
  {
   "cell_type": "code",
   "execution_count": 210,
   "metadata": {
    "collapsed": true
   },
   "outputs": [],
   "source": [
    "pred4 = clf4.predict(X_valid[feature_names])"
   ]
  },
  {
   "cell_type": "code",
   "execution_count": 211,
   "metadata": {},
   "outputs": [
    {
     "data": {
      "text/plain": [
       "('maccuracy', 0.77912310751481506)"
      ]
     },
     "execution_count": 211,
     "metadata": {},
     "output_type": "execute_result"
    }
   ],
   "source": [
    "multAcc(pred4,y_valid)"
   ]
  },
  {
   "cell_type": "code",
   "execution_count": null,
   "metadata": {
    "collapsed": true
   },
   "outputs": [],
   "source": [
    "import matplotlib.pyplot as plt\n",
    "ax = df[['cont_1','target']].plot(kind='bar', title =\"V comp\", figsize=(15, 10), legend=True, fontsize=12)\n",
    "ax.set_xlabel(\"Hour\", fontsize=12)\n",
    "ax.set_ylabel(\"V\", fontsize=12)\n",
    "plt.show()"
   ]
  },
  {
   "cell_type": "markdown",
   "metadata": {
    "collapsed": true
   },
   "source": [
    "# Kmeans"
   ]
  },
  {
   "cell_type": "code",
   "execution_count": 352,
   "metadata": {
    "collapsed": true
   },
   "outputs": [],
   "source": [
    "from sklearn.neighbors import KNeighborsClassifier"
   ]
  },
  {
   "cell_type": "code",
   "execution_count": 353,
   "metadata": {},
   "outputs": [
    {
     "data": {
      "text/plain": [
       "KNeighborsClassifier(algorithm='auto', leaf_size=30, metric='minkowski',\n",
       "           metric_params=None, n_jobs=1, n_neighbors=5, p=2,\n",
       "           weights='uniform')"
      ]
     },
     "execution_count": 353,
     "metadata": {},
     "output_type": "execute_result"
    }
   ],
   "source": [
    "knn = KNeighborsClassifier()\n",
    "knn.fit(X_train[feature_names], y_train) "
   ]
  },
  {
   "cell_type": "code",
   "execution_count": 354,
   "metadata": {
    "collapsed": true
   },
   "outputs": [],
   "source": [
    "predKnn = knn.predict(X_valid[feature_names])"
   ]
  },
  {
   "cell_type": "code",
   "execution_count": 355,
   "metadata": {},
   "outputs": [
    {
     "data": {
      "text/plain": [
       "('maccuracy', 0.71903608764987303)"
      ]
     },
     "execution_count": 355,
     "metadata": {},
     "output_type": "execute_result"
    }
   ],
   "source": [
    "multAcc(predKnn,y_valid)"
   ]
  },
  {
   "cell_type": "code",
   "execution_count": null,
   "metadata": {
    "collapsed": true
   },
   "outputs": [],
   "source": []
  }
 ],
 "metadata": {
  "kernelspec": {
   "display_name": "Python [conda env:tensorflow]",
   "language": "python",
   "name": "conda-env-tensorflow-py"
  },
  "language_info": {
   "codemirror_mode": {
    "name": "ipython",
    "version": 3
   },
   "file_extension": ".py",
   "mimetype": "text/x-python",
   "name": "python",
   "nbconvert_exporter": "python",
   "pygments_lexer": "ipython3",
   "version": "3.5.3"
  }
 },
 "nbformat": 4,
 "nbformat_minor": 2
}
